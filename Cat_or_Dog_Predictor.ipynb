{
  "nbformat": 4,
  "nbformat_minor": 0,
  "metadata": {
    "colab": {
      "name": "Cat_or_Dog Predictor.ipynb",
      "provenance": [],
      "collapsed_sections": []
    },
    "kernelspec": {
      "name": "python3",
      "display_name": "Python 3"
    }
  },
  "cells": [
    {
      "cell_type": "markdown",
      "metadata": {
        "id": "3DR-eO17geWu",
        "colab_type": "text"
      },
      "source": [
        "# Cat or Dog Predictor Project\n",
        "\n",
        "We have data set of 8000 images of cats and dogs as training set and 2000 images as test set and 4 images as model verification set.\n",
        "We create a Convolution Neural Network to predict whether the image shown is of a cat or a dog."
      ]
    },
    {
      "cell_type": "markdown",
      "metadata": {
        "id": "EMefrVPCg-60",
        "colab_type": "text"
      },
      "source": [
        "### Importing the libraries"
      ]
    },
    {
      "cell_type": "code",
      "metadata": {
        "id": "sCV30xyVhFbE",
        "colab_type": "code",
        "colab": {}
      },
      "source": [
        "import tensorflow as tf\n",
        "from keras.preprocessing.image import ImageDataGenerator"
      ],
      "execution_count": 1,
      "outputs": []
    },
    {
      "cell_type": "code",
      "metadata": {
        "id": "FIleuCAjoFD8",
        "colab_type": "code",
        "colab": {
          "base_uri": "https://localhost:8080/",
          "height": 35
        },
        "outputId": "91d2e66c-12c7-4564-80ec-a0635dc61605"
      },
      "source": [
        "tf.__version__"
      ],
      "execution_count": 2,
      "outputs": [
        {
          "output_type": "execute_result",
          "data": {
            "application/vnd.google.colaboratory.intrinsic+json": {
              "type": "string"
            },
            "text/plain": [
              "'2.3.0'"
            ]
          },
          "metadata": {
            "tags": []
          },
          "execution_count": 2
        }
      ]
    },
    {
      "cell_type": "code",
      "metadata": {
        "id": "rMiT5ppCpB9e",
        "colab_type": "code",
        "colab": {
          "base_uri": "https://localhost:8080/",
          "height": 121
        },
        "outputId": "ea6fe203-ff11-456e-f53e-f7c0c453b706"
      },
      "source": [
        "from google.colab import drive\n",
        "drive.mount('/content/drive')"
      ],
      "execution_count": 3,
      "outputs": [
        {
          "output_type": "stream",
          "text": [
            "Go to this URL in a browser: https://accounts.google.com/o/oauth2/auth?client_id=947318989803-6bn6qk8qdgf4n4g3pfee6491hc0brc4i.apps.googleusercontent.com&redirect_uri=urn%3aietf%3awg%3aoauth%3a2.0%3aoob&response_type=code&scope=email%20https%3a%2f%2fwww.googleapis.com%2fauth%2fdocs.test%20https%3a%2f%2fwww.googleapis.com%2fauth%2fdrive%20https%3a%2f%2fwww.googleapis.com%2fauth%2fdrive.photos.readonly%20https%3a%2f%2fwww.googleapis.com%2fauth%2fpeopleapi.readonly\n",
            "\n",
            "Enter your authorization code:\n",
            "··········\n",
            "Mounted at /content/drive\n"
          ],
          "name": "stdout"
        }
      ]
    },
    {
      "cell_type": "markdown",
      "metadata": {
        "id": "oxQxCBWyoGPE",
        "colab_type": "text"
      },
      "source": [
        "## Part 1 - Data Preprocessing"
      ]
    },
    {
      "cell_type": "markdown",
      "metadata": {
        "id": "MvE-heJNo3GG",
        "colab_type": "text"
      },
      "source": [
        "### Preprocessing the Training set"
      ]
    },
    {
      "cell_type": "code",
      "metadata": {
        "id": "0koUcJMJpEBD",
        "colab_type": "code",
        "colab": {
          "base_uri": "https://localhost:8080/",
          "height": 34
        },
        "outputId": "60b2c273-a132-4bf5-ef90-17bdbd15440a"
      },
      "source": [
        "train_datagen = ImageDataGenerator(rescale = 1./255,\n",
        "                                   shear_range = 0.2,\n",
        "                                   zoom_range = 0.2,\n",
        "                                   horizontal_flip = True,)\n",
        "training_set = train_datagen.flow_from_directory('/content/drive/My Drive/dataset/training_set',\n",
        "                                                 target_size = (64, 64),\n",
        "                                                 batch_size = 32,\n",
        "                                                 class_mode = 'binary',)"
      ],
      "execution_count": 4,
      "outputs": [
        {
          "output_type": "stream",
          "text": [
            "Found 8010 images belonging to 2 classes.\n"
          ],
          "name": "stdout"
        }
      ]
    },
    {
      "cell_type": "markdown",
      "metadata": {
        "id": "mrCMmGw9pHys",
        "colab_type": "text"
      },
      "source": [
        "### Preprocessing the Test set"
      ]
    },
    {
      "cell_type": "code",
      "metadata": {
        "id": "SH4WzfOhpKc3",
        "colab_type": "code",
        "colab": {
          "base_uri": "https://localhost:8080/",
          "height": 34
        },
        "outputId": "b736bef7-a5fc-4843-9a39-8734c72642d5"
      },
      "source": [
        "test_datagen = ImageDataGenerator(rescale = 1./255)\n",
        "test_set = test_datagen.flow_from_directory('/content/drive/My Drive/dataset/test_set',\n",
        "                                            target_size = (64, 64),\n",
        "                                            batch_size = 32,\n",
        "                                            class_mode = 'binary')"
      ],
      "execution_count": 5,
      "outputs": [
        {
          "output_type": "stream",
          "text": [
            "Found 2000 images belonging to 2 classes.\n"
          ],
          "name": "stdout"
        }
      ]
    },
    {
      "cell_type": "markdown",
      "metadata": {
        "id": "af8O4l90gk7B",
        "colab_type": "text"
      },
      "source": [
        "## Part 2 - Building the CNN"
      ]
    },
    {
      "cell_type": "markdown",
      "metadata": {
        "id": "ces1gXY2lmoX",
        "colab_type": "text"
      },
      "source": [
        "### Initialising the CNN"
      ]
    },
    {
      "cell_type": "code",
      "metadata": {
        "id": "SAUt4UMPlhLS",
        "colab_type": "code",
        "colab": {}
      },
      "source": [
        "cnn = tf.keras.models.Sequential()"
      ],
      "execution_count": 6,
      "outputs": []
    },
    {
      "cell_type": "markdown",
      "metadata": {
        "id": "u5YJj_XMl5LF",
        "colab_type": "text"
      },
      "source": [
        "### Step 1 - Convolution"
      ]
    },
    {
      "cell_type": "code",
      "metadata": {
        "id": "XPzPrMckl-hV",
        "colab_type": "code",
        "colab": {}
      },
      "source": [
        "cnn.add(tf.keras.layers.Conv2D(filters=32, kernel_size=3, activation='relu', input_shape=[64, 64, 3]))"
      ],
      "execution_count": 7,
      "outputs": []
    },
    {
      "cell_type": "markdown",
      "metadata": {
        "id": "tf87FpvxmNOJ",
        "colab_type": "text"
      },
      "source": [
        "### Step 2 - Pooling"
      ]
    },
    {
      "cell_type": "code",
      "metadata": {
        "id": "ncpqPl69mOac",
        "colab_type": "code",
        "colab": {}
      },
      "source": [
        "cnn.add(tf.keras.layers.MaxPool2D(pool_size=2, strides=2))"
      ],
      "execution_count": 8,
      "outputs": []
    },
    {
      "cell_type": "markdown",
      "metadata": {
        "id": "xaTOgD8rm4mU",
        "colab_type": "text"
      },
      "source": [
        "### Adding a second convolutional layer"
      ]
    },
    {
      "cell_type": "code",
      "metadata": {
        "id": "i_-FZjn_m8gk",
        "colab_type": "code",
        "colab": {}
      },
      "source": [
        "cnn.add(tf.keras.layers.Conv2D(filters=32, kernel_size=3, activation='relu'))\n",
        "cnn.add(tf.keras.layers.MaxPool2D(pool_size=2, strides=2))"
      ],
      "execution_count": 9,
      "outputs": []
    },
    {
      "cell_type": "markdown",
      "metadata": {
        "id": "tmiEuvTunKfk",
        "colab_type": "text"
      },
      "source": [
        "### Step 3 - Flattening"
      ]
    },
    {
      "cell_type": "code",
      "metadata": {
        "id": "6AZeOGCvnNZn",
        "colab_type": "code",
        "colab": {}
      },
      "source": [
        "cnn.add(tf.keras.layers.Flatten())"
      ],
      "execution_count": 10,
      "outputs": []
    },
    {
      "cell_type": "markdown",
      "metadata": {
        "id": "dAoSECOm203v",
        "colab_type": "text"
      },
      "source": [
        "### Step 4 - Full Connection"
      ]
    },
    {
      "cell_type": "code",
      "metadata": {
        "id": "8GtmUlLd26Nq",
        "colab_type": "code",
        "colab": {}
      },
      "source": [
        "cnn.add(tf.keras.layers.Dense(units=128, activation='relu'))"
      ],
      "execution_count": 11,
      "outputs": []
    },
    {
      "cell_type": "markdown",
      "metadata": {
        "id": "yTldFvbX28Na",
        "colab_type": "text"
      },
      "source": [
        "### Step 5 - Output Layer"
      ]
    },
    {
      "cell_type": "code",
      "metadata": {
        "id": "1p_Zj1Mc3Ko_",
        "colab_type": "code",
        "colab": {}
      },
      "source": [
        "cnn.add(tf.keras.layers.Dense(units=1, activation='sigmoid'))"
      ],
      "execution_count": 12,
      "outputs": []
    },
    {
      "cell_type": "markdown",
      "metadata": {
        "id": "D6XkI90snSDl",
        "colab_type": "text"
      },
      "source": [
        "## Part 3 - Training the CNN"
      ]
    },
    {
      "cell_type": "markdown",
      "metadata": {
        "id": "vfrFQACEnc6i",
        "colab_type": "text"
      },
      "source": [
        "### Compiling the CNN"
      ]
    },
    {
      "cell_type": "code",
      "metadata": {
        "id": "NALksrNQpUlJ",
        "colab_type": "code",
        "colab": {}
      },
      "source": [
        "cnn.compile(optimizer = 'adam', loss = 'binary_crossentropy', metrics = ['accuracy'])"
      ],
      "execution_count": 13,
      "outputs": []
    },
    {
      "cell_type": "markdown",
      "metadata": {
        "id": "ehS-v3MIpX2h",
        "colab_type": "text"
      },
      "source": [
        "### Training the CNN on the Training set and evaluating it on the Test set"
      ]
    },
    {
      "cell_type": "code",
      "metadata": {
        "id": "XUj1W4PJptta",
        "colab_type": "code",
        "colab": {
          "base_uri": "https://localhost:8080/",
          "height": 874
        },
        "outputId": "826f6fbe-9fe1-4859-d3a3-88eb4bf9d340"
      },
      "source": [
        "cnn.fit(x = training_set, validation_data = test_set, epochs = 25)"
      ],
      "execution_count": 14,
      "outputs": [
        {
          "output_type": "stream",
          "text": [
            "Epoch 1/25\n",
            "251/251 [==============================] - 2244s 9s/step - loss: 0.6811 - accuracy: 0.5629 - val_loss: 0.6510 - val_accuracy: 0.6200\n",
            "Epoch 2/25\n",
            "251/251 [==============================] - 91s 364ms/step - loss: 0.6408 - accuracy: 0.6412 - val_loss: 0.6160 - val_accuracy: 0.6860\n",
            "Epoch 3/25\n",
            "251/251 [==============================] - 92s 365ms/step - loss: 0.6077 - accuracy: 0.6735 - val_loss: 0.5878 - val_accuracy: 0.7070\n",
            "Epoch 4/25\n",
            "251/251 [==============================] - 93s 370ms/step - loss: 0.5655 - accuracy: 0.7069 - val_loss: 0.5826 - val_accuracy: 0.7005\n",
            "Epoch 5/25\n",
            "251/251 [==============================] - 91s 364ms/step - loss: 0.5408 - accuracy: 0.7260 - val_loss: 0.5550 - val_accuracy: 0.7175\n",
            "Epoch 6/25\n",
            "251/251 [==============================] - 92s 365ms/step - loss: 0.5152 - accuracy: 0.7454 - val_loss: 0.5305 - val_accuracy: 0.7415\n",
            "Epoch 7/25\n",
            "251/251 [==============================] - 92s 368ms/step - loss: 0.4861 - accuracy: 0.7628 - val_loss: 0.4937 - val_accuracy: 0.7630\n",
            "Epoch 8/25\n",
            "251/251 [==============================] - 91s 362ms/step - loss: 0.4689 - accuracy: 0.7704 - val_loss: 0.4769 - val_accuracy: 0.7800\n",
            "Epoch 9/25\n",
            "251/251 [==============================] - 90s 358ms/step - loss: 0.4558 - accuracy: 0.7783 - val_loss: 0.5114 - val_accuracy: 0.7645\n",
            "Epoch 10/25\n",
            "251/251 [==============================] - 90s 358ms/step - loss: 0.4334 - accuracy: 0.8000 - val_loss: 0.4855 - val_accuracy: 0.7715\n",
            "Epoch 11/25\n",
            "251/251 [==============================] - 92s 367ms/step - loss: 0.4241 - accuracy: 0.8021 - val_loss: 0.5035 - val_accuracy: 0.7670\n",
            "Epoch 12/25\n",
            "251/251 [==============================] - 91s 361ms/step - loss: 0.4123 - accuracy: 0.8065 - val_loss: 0.4723 - val_accuracy: 0.7775\n",
            "Epoch 13/25\n",
            "251/251 [==============================] - 90s 359ms/step - loss: 0.3954 - accuracy: 0.8180 - val_loss: 0.4585 - val_accuracy: 0.7820\n",
            "Epoch 14/25\n",
            "251/251 [==============================] - 93s 371ms/step - loss: 0.3803 - accuracy: 0.8311 - val_loss: 0.5090 - val_accuracy: 0.7640\n",
            "Epoch 15/25\n",
            "251/251 [==============================] - 89s 355ms/step - loss: 0.3625 - accuracy: 0.8376 - val_loss: 0.4746 - val_accuracy: 0.7830\n",
            "Epoch 16/25\n",
            "251/251 [==============================] - 90s 360ms/step - loss: 0.3462 - accuracy: 0.8507 - val_loss: 0.4544 - val_accuracy: 0.7915\n",
            "Epoch 17/25\n",
            "251/251 [==============================] - 89s 355ms/step - loss: 0.3256 - accuracy: 0.8542 - val_loss: 0.4805 - val_accuracy: 0.7835\n",
            "Epoch 18/25\n",
            "251/251 [==============================] - 90s 360ms/step - loss: 0.3100 - accuracy: 0.8650 - val_loss: 0.5006 - val_accuracy: 0.7880\n",
            "Epoch 19/25\n",
            "251/251 [==============================] - 90s 359ms/step - loss: 0.3058 - accuracy: 0.8698 - val_loss: 0.4769 - val_accuracy: 0.7975\n",
            "Epoch 20/25\n",
            "251/251 [==============================] - 91s 362ms/step - loss: 0.2803 - accuracy: 0.8789 - val_loss: 0.5051 - val_accuracy: 0.7895\n",
            "Epoch 21/25\n",
            "251/251 [==============================] - 92s 367ms/step - loss: 0.2668 - accuracy: 0.8875 - val_loss: 0.5266 - val_accuracy: 0.7790\n",
            "Epoch 22/25\n",
            "251/251 [==============================] - 90s 361ms/step - loss: 0.2510 - accuracy: 0.8989 - val_loss: 0.5707 - val_accuracy: 0.7705\n",
            "Epoch 23/25\n",
            "251/251 [==============================] - 93s 369ms/step - loss: 0.2340 - accuracy: 0.9019 - val_loss: 0.5324 - val_accuracy: 0.7820\n",
            "Epoch 24/25\n",
            "251/251 [==============================] - 91s 361ms/step - loss: 0.2215 - accuracy: 0.9096 - val_loss: 0.5247 - val_accuracy: 0.7975\n",
            "Epoch 25/25\n",
            "251/251 [==============================] - 92s 365ms/step - loss: 0.2112 - accuracy: 0.9112 - val_loss: 0.5608 - val_accuracy: 0.7940\n"
          ],
          "name": "stdout"
        },
        {
          "output_type": "execute_result",
          "data": {
            "text/plain": [
              "<tensorflow.python.keras.callbacks.History at 0x7f497d7d93c8>"
            ]
          },
          "metadata": {
            "tags": []
          },
          "execution_count": 14
        }
      ]
    },
    {
      "cell_type": "markdown",
      "metadata": {
        "id": "mn7jjo4zCikE",
        "colab_type": "text"
      },
      "source": [
        "The accuracy of the model on the test set 79.2%, which is pretty good."
      ]
    },
    {
      "cell_type": "markdown",
      "metadata": {
        "id": "U3PZasO0006Z",
        "colab_type": "text"
      },
      "source": [
        "\n",
        "## Part 4 - Making a single prediction"
      ]
    },
    {
      "cell_type": "code",
      "metadata": {
        "id": "gsSiWEJY1BPB",
        "colab_type": "code",
        "colab": {}
      },
      "source": [
        "import numpy as np\n",
        "from keras.preprocessing import image\n",
        "test_image = image.load_img('/content/drive/My Drive/dataset/single_prediction/cat_or_dog_1.jpg', target_size = (64, 64))\n",
        "test_image = image.img_to_array(test_image)\n",
        "test_image = np.expand_dims(test_image, axis = 0)\n",
        "result = cnn.predict(test_image)\n",
        "training_set.class_indices\n",
        "if result[0][0] == 1:\n",
        "  prediction = 'dog'\n",
        "else:\n",
        "  prediction = 'cat'"
      ],
      "execution_count": 33,
      "outputs": []
    },
    {
      "cell_type": "code",
      "metadata": {
        "id": "ED9KB3I54c1i",
        "colab_type": "code",
        "colab": {
          "base_uri": "https://localhost:8080/",
          "height": 34
        },
        "outputId": "3ecb77a3-4496-4b82-9dc9-bb596a3f6757"
      },
      "source": [
        "print(prediction)"
      ],
      "execution_count": 34,
      "outputs": [
        {
          "output_type": "stream",
          "text": [
            "dog\n"
          ],
          "name": "stdout"
        }
      ]
    },
    {
      "cell_type": "code",
      "metadata": {
        "id": "U1eZWY4_0Hla",
        "colab_type": "code",
        "colab": {
          "base_uri": "https://localhost:8080/",
          "height": 145
        },
        "outputId": "deaff805-f4b7-4244-a890-87a0d594b813"
      },
      "source": [
        "display(image.load_img('/content/drive/My Drive/dataset/single_prediction/cat_or_dog_1.jpg', target_size = (128, 128)))"
      ],
      "execution_count": 35,
      "outputs": [
        {
          "output_type": "display_data",
          "data": {
            "image/png": "[encoded data removed]",
            "text/plain": [
              "<PIL.Image.Image image mode=RGB size=128x128 at 0x7F497C9FAF98>"
            ]
          },
          "metadata": {
            "tags": []
          }
        }
      ]
    },
    {
      "cell_type": "markdown",
      "metadata": {
        "id": "h_QQ_hlvCcG7",
        "colab_type": "text"
      },
      "source": [
        "As we can see, the model pridicted this image perfectly."
      ]
    },
    {
      "cell_type": "code",
      "metadata": {
        "id": "r_-FkZf3ASXg",
        "colab_type": "code",
        "colab": {}
      },
      "source": [
        "test_image = image.load_img('/content/drive/My Drive/dataset/single_prediction/cat_or_dog_2.jpg', target_size = (64, 64))\n",
        "test_image = image.img_to_array(test_image)\n",
        "test_image = np.expand_dims(test_image, axis = 0)\n",
        "result = cnn.predict(test_image)\n",
        "training_set.class_indices\n",
        "if result[0][0] == 1:\n",
        "  prediction = 'dog'\n",
        "else:\n",
        "  prediction = 'cat'"
      ],
      "execution_count": 37,
      "outputs": []
    },
    {
      "cell_type": "code",
      "metadata": {
        "id": "h3eT6lBOAVaJ",
        "colab_type": "code",
        "colab": {
          "base_uri": "https://localhost:8080/",
          "height": 34
        },
        "outputId": "46466fe2-3dc7-4031-def4-f620d79e6009"
      },
      "source": [
        "print(prediction)"
      ],
      "execution_count": 38,
      "outputs": [
        {
          "output_type": "stream",
          "text": [
            "dog\n"
          ],
          "name": "stdout"
        }
      ]
    },
    {
      "cell_type": "code",
      "metadata": {
        "id": "vHPvJjjw5BYW",
        "colab_type": "code",
        "colab": {
          "base_uri": "https://localhost:8080/",
          "height": 145
        },
        "outputId": "1732ca41-178a-4daa-fd48-941b6034b8c0"
      },
      "source": [
        "display(image.load_img('/content/drive/My Drive/dataset/single_prediction/cat_or_dog_2.jpg', target_size = (128, 128)))"
      ],
      "execution_count": 40,
      "outputs": [
        {
          "output_type": "display_data",
          "data": {
            "image/png": "[encoded data removed]",
            "text/plain": [
              "<PIL.Image.Image image mode=RGB size=128x128 at 0x7F497C9FA8D0>"
            ]
          },
          "metadata": {
            "tags": []
          }
        }
      ]
    },
    {
      "cell_type": "markdown",
      "metadata": {
        "id": "uvnfqGSqCsUe",
        "colab_type": "text"
      },
      "source": [
        "The model predicted this image incorrectly, as it's accuracy is 79.4%, it does makes mistakes sometimes."
      ]
    },
    {
      "cell_type": "code",
      "metadata": {
        "colab_type": "code",
        "id": "RTGsQLinAgE1",
        "colab": {}
      },
      "source": [
        "test_image = image.load_img('/content/drive/My Drive/dataset/single_prediction/cat_or_dog_3.jpg', target_size = (64, 64))\n",
        "test_image = image.img_to_array(test_image)\n",
        "test_image = np.expand_dims(test_image, axis = 0)\n",
        "result = cnn.predict(test_image)\n",
        "training_set.class_indices\n",
        "if result[0][0] == 1:\n",
        "  prediction = 'dog'\n",
        "else:\n",
        "  prediction = 'cat'"
      ],
      "execution_count": 46,
      "outputs": []
    },
    {
      "cell_type": "code",
      "metadata": {
        "colab_type": "code",
        "id": "3i1LM624Aqsq",
        "colab": {
          "base_uri": "https://localhost:8080/",
          "height": 34
        },
        "outputId": "ceedb18a-1f01-4d51-eba0-e129a71eedd9"
      },
      "source": [
        "print(prediction)"
      ],
      "execution_count": 47,
      "outputs": [
        {
          "output_type": "stream",
          "text": [
            "dog\n"
          ],
          "name": "stdout"
        }
      ]
    },
    {
      "cell_type": "code",
      "metadata": {
        "id": "_mJ0bns-BZbZ",
        "colab_type": "code",
        "colab": {
          "base_uri": "https://localhost:8080/",
          "height": 145
        },
        "outputId": "3d9662cc-d279-47d1-d275-25cce7210308"
      },
      "source": [
        "display(image.load_img('/content/drive/My Drive/dataset/single_prediction/cat_or_dog_3.jpg', target_size = (128, 128)))"
      ],
      "execution_count": 48,
      "outputs": [
        {
          "output_type": "display_data",
          "data": {
            "image/png": "[encoded data removed]",
            "text/plain": [
              "<PIL.Image.Image image mode=RGB size=128x128 at 0x7F497C9FA2E8>"
            ]
          },
          "metadata": {
            "tags": []
          }
        }
      ]
    },
    {
      "cell_type": "markdown",
      "metadata": {
        "id": "Ie8jrBBEC5pz",
        "colab_type": "text"
      },
      "source": [
        "The model also predicted this image correctly."
      ]
    },
    {
      "cell_type": "code",
      "metadata": {
        "id": "aaBFjiOlArzW",
        "colab_type": "code",
        "colab": {}
      },
      "source": [
        "test_image = image.load_img('/content/drive/My Drive/dataset/single_prediction/cat.4325.jpg', target_size = (64, 64))\n",
        "test_image = image.img_to_array(test_image)\n",
        "test_image = np.expand_dims(test_image, axis = 0)\n",
        "result = cnn.predict(test_image)\n",
        "training_set.class_indices\n",
        "if result[0][0] == 1:\n",
        "  prediction = 'dog'\n",
        "else:\n",
        "  prediction = 'cat'"
      ],
      "execution_count": 43,
      "outputs": []
    },
    {
      "cell_type": "code",
      "metadata": {
        "id": "P37gMgF-A1A2",
        "colab_type": "code",
        "colab": {
          "base_uri": "https://localhost:8080/",
          "height": 34
        },
        "outputId": "4c352e95-5a0c-4da1-f8bc-09babb3071fa"
      },
      "source": [
        "print(prediction)"
      ],
      "execution_count": 44,
      "outputs": [
        {
          "output_type": "stream",
          "text": [
            "cat\n"
          ],
          "name": "stdout"
        }
      ]
    },
    {
      "cell_type": "code",
      "metadata": {
        "id": "OR59aoS7A5Jj",
        "colab_type": "code",
        "colab": {
          "base_uri": "https://localhost:8080/",
          "height": 145
        },
        "outputId": "8784b6f6-79db-4fc5-8238-c2848560678e"
      },
      "source": [
        "display(image.load_img('/content/drive/My Drive/dataset/single_prediction/cat_or_dog_4.jpg', target_size = (128, 128)))"
      ],
      "execution_count": 50,
      "outputs": [
        {
          "output_type": "display_data",
          "data": {
            "image/png": "[encoded data removed]",
            "text/plain": [
              "<PIL.Image.Image image mode=RGB size=128x128 at 0x7F497CB28EB8>"
            ]
          },
          "metadata": {
            "tags": []
          }
        }
      ]
    },
    {
      "cell_type": "markdown",
      "metadata": {
        "id": "-g_TipY7DAKV",
        "colab_type": "text"
      },
      "source": [
        "The model also predicted this image correctly."
      ]
    }
  ]
}